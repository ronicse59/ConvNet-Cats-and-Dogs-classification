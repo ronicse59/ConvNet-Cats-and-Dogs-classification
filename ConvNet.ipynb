{
 "cells": [
  {
   "cell_type": "markdown",
   "metadata": {},
   "source": [
    "## Import library"
   ]
  },
  {
   "cell_type": "code",
   "execution_count": 1,
   "metadata": {
    "collapsed": true
   },
   "outputs": [],
   "source": [
    "from tensorflow.python.keras.models import Sequential\n",
    "from tensorflow.python.keras.layers import Dense, Dropout, Activation, Flatten, Conv2D, MaxPooling2D\n",
    "import pickle"
   ]
  },
  {
   "cell_type": "markdown",
   "metadata": {},
   "source": [
    "## Extract features and labels from pickle files"
   ]
  },
  {
   "cell_type": "code",
   "execution_count": 2,
   "metadata": {
    "collapsed": true
   },
   "outputs": [],
   "source": [
    "X = pickle.load(open(\"X.pickle\",\"rb\"))\n",
    "y = pickle.load(open(\"y.pickle\",\"rb\"))\n",
    "X = X/255.0"
   ]
  },
  {
   "cell_type": "code",
   "execution_count": 3,
   "metadata": {
    "collapsed": true
   },
   "outputs": [],
   "source": [
    "model = Sequential()"
   ]
  },
  {
   "cell_type": "markdown",
   "metadata": {},
   "source": [
    "## First convolutional layer "
   ]
  },
  {
   "cell_type": "code",
   "execution_count": 4,
   "metadata": {},
   "outputs": [
    {
     "name": "stdout",
     "output_type": "stream",
     "text": [
      "WARNING:tensorflow:From /home/ronicse/anaconda3/lib/python3.6/site-packages/tensorflow/python/ops/resource_variable_ops.py:435: colocate_with (from tensorflow.python.framework.ops) is deprecated and will be removed in a future version.\n",
      "Instructions for updating:\n",
      "Colocations handled automatically by placer.\n"
     ]
    }
   ],
   "source": [
    "model.add(Conv2D(64, (3,3), input_shape=X.shape[1:]))\n",
    "model.add(Activation(\"relu\"))\n",
    "model.add(MaxPooling2D(pool_size=(2,2)))"
   ]
  },
  {
   "cell_type": "markdown",
   "metadata": {},
   "source": [
    "## Second convolutional layer"
   ]
  },
  {
   "cell_type": "code",
   "execution_count": 5,
   "metadata": {
    "collapsed": true
   },
   "outputs": [],
   "source": [
    "model.add(Conv2D(64, (3,3)))\n",
    "model.add(Activation(\"relu\"))\n",
    "model.add(MaxPooling2D(pool_size=(2,2)))"
   ]
  },
  {
   "cell_type": "markdown",
   "metadata": {},
   "source": [
    "## Fully connected layer "
   ]
  },
  {
   "cell_type": "code",
   "execution_count": 6,
   "metadata": {
    "collapsed": true
   },
   "outputs": [],
   "source": [
    "model.add(Flatten())\n",
    "model.add(Dense(64))"
   ]
  },
  {
   "cell_type": "markdown",
   "metadata": {},
   "source": [
    "## Output layer "
   ]
  },
  {
   "cell_type": "code",
   "execution_count": 7,
   "metadata": {
    "collapsed": true
   },
   "outputs": [],
   "source": [
    "model.add(Dense(1))\n",
    "model.add(Activation('sigmoid'))"
   ]
  },
  {
   "cell_type": "markdown",
   "metadata": {},
   "source": [
    "## Compile model usnig adam optimizer "
   ]
  },
  {
   "cell_type": "code",
   "execution_count": null,
   "metadata": {
    "collapsed": true
   },
   "outputs": [],
   "source": [
    "model.compile(loss=\"binary_crossentropy\",\n",
    "              optimizer=\"adam\",\n",
    "              metrics=['accuracy'])"
   ]
  },
  {
   "cell_type": "markdown",
   "metadata": {},
   "source": [
    "## Train and validate model "
   ]
  },
  {
   "cell_type": "code",
   "execution_count": null,
   "metadata": {},
   "outputs": [
    {
     "name": "stdout",
     "output_type": "stream",
     "text": [
      "Train on 22451 samples, validate on 2495 samples\n",
      "WARNING:tensorflow:From /home/ronicse/anaconda3/lib/python3.6/site-packages/tensorflow/python/ops/math_ops.py:3066: to_int32 (from tensorflow.python.ops.math_ops) is deprecated and will be removed in a future version.\n",
      "Instructions for updating:\n",
      "Use tf.cast instead.\n",
      "Epoch 1/10\n",
      "22451/22451 [==============================] - 119s 5ms/sample - loss: 0.6512 - acc: 0.6106 - val_loss: 0.6112 - val_acc: 0.6577\n",
      "Epoch 2/10\n",
      "22451/22451 [==============================] - 114s 5ms/sample - loss: 0.5685 - acc: 0.7065 - val_loss: 0.5352 - val_acc: 0.7387\n",
      "Epoch 3/10\n",
      "22451/22451 [==============================] - 114s 5ms/sample - loss: 0.5068 - acc: 0.7552 - val_loss: 0.4866 - val_acc: 0.7747\n",
      "Epoch 4/10\n",
      "22451/22451 [==============================] - 136s 6ms/sample - loss: 0.4704 - acc: 0.7795 - val_loss: 0.4917 - val_acc: 0.7667\n",
      "Epoch 5/10\n",
      "22451/22451 [==============================] - 149s 7ms/sample - loss: 0.4413 - acc: 0.7953 - val_loss: 0.4707 - val_acc: 0.7792\n",
      "Epoch 6/10\n",
      "22451/22451 [==============================] - 154s 7ms/sample - loss: 0.4101 - acc: 0.8135 - val_loss: 0.4940 - val_acc: 0.7719\n",
      "Epoch 7/10\n",
      "22451/22451 [==============================] - 154s 7ms/sample - loss: 0.3936 - acc: 0.8187 - val_loss: 0.4777 - val_acc: 0.7844\n",
      "Epoch 8/10\n",
      "22451/22451 [==============================] - 161s 7ms/sample - loss: 0.3721 - acc: 0.8321 - val_loss: 0.5067 - val_acc: 0.7723\n",
      "Epoch 9/10\n",
      "22451/22451 [==============================] - 157s 7ms/sample - loss: 0.3486 - acc: 0.8464 - val_loss: 0.4948 - val_acc: 0.7856\n",
      "Epoch 10/10\n",
      " 7104/22451 [========>.....................] - ETA: 1:37 - loss: 0.3208 - acc: 0.8609"
     ]
    }
   ],
   "source": [
    "model.fit(X, y, batch_size=32, epochs=10, validation_split=0.1)"
   ]
  }
 ],
 "metadata": {
  "kernelspec": {
   "display_name": "Python 3",
   "language": "python",
   "name": "python3"
  },
  "language_info": {
   "codemirror_mode": {
    "name": "ipython",
    "version": 3
   },
   "file_extension": ".py",
   "mimetype": "text/x-python",
   "name": "python",
   "nbconvert_exporter": "python",
   "pygments_lexer": "ipython3",
   "version": "3.6.8"
  }
 },
 "nbformat": 4,
 "nbformat_minor": 2
}
